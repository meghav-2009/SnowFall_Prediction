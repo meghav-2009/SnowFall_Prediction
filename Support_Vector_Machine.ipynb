{
 "cells": [
  {
   "cell_type": "code",
   "execution_count": 1,
   "id": "79218d22-de77-48ec-aee4-d1a8d9be4204",
   "metadata": {},
   "outputs": [],
   "source": [
    "import pandas as pd\n",
    "from sklearn.model_selection import train_test_split\n",
    "from sklearn.naive_bayes import MultinomialNB\n",
    "from sklearn.metrics import confusion_matrix\n",
    "from sklearn.feature_extraction.text import CountVectorizer\n",
    "import matplotlib.pyplot as plt\n",
    "import seaborn as sns"
   ]
  },
  {
   "cell_type": "code",
   "execution_count": 2,
   "id": "9f978747-7327-4b3f-8cfa-ad58cb1d53cf",
   "metadata": {},
   "outputs": [],
   "source": [
    "df = pd.read_csv(\"Decision_tree_and_Naive_Bayes.csv\")\n",
    "df = df.drop(columns=[\"Unnamed: 0\"])"
   ]
  },
  {
   "cell_type": "code",
   "execution_count": 3,
   "id": "7c65b090",
   "metadata": {},
   "outputs": [
    {
     "data": {
      "text/html": [
       "<div>\n",
       "<style scoped>\n",
       "    .dataframe tbody tr th:only-of-type {\n",
       "        vertical-align: middle;\n",
       "    }\n",
       "\n",
       "    .dataframe tbody tr th {\n",
       "        vertical-align: top;\n",
       "    }\n",
       "\n",
       "    .dataframe thead th {\n",
       "        text-align: right;\n",
       "    }\n",
       "</style>\n",
       "<table border=\"1\" class=\"dataframe\">\n",
       "  <thead>\n",
       "    <tr style=\"text-align: right;\">\n",
       "      <th></th>\n",
       "      <th>Visib_miles</th>\n",
       "      <th>Humidity</th>\n",
       "      <th>Cloud</th>\n",
       "      <th>Feels_like_c</th>\n",
       "      <th>wind_north_direction</th>\n",
       "      <th>snow_or_not</th>\n",
       "    </tr>\n",
       "  </thead>\n",
       "  <tbody>\n",
       "    <tr>\n",
       "      <th>0</th>\n",
       "      <td>0.0</td>\n",
       "      <td>6.0</td>\n",
       "      <td>0.714286</td>\n",
       "      <td>0</td>\n",
       "      <td>no</td>\n",
       "      <td>no_snow</td>\n",
       "    </tr>\n",
       "    <tr>\n",
       "      <th>1</th>\n",
       "      <td>0.0</td>\n",
       "      <td>6.0</td>\n",
       "      <td>0.688312</td>\n",
       "      <td>0</td>\n",
       "      <td>no</td>\n",
       "      <td>no_snow</td>\n",
       "    </tr>\n",
       "    <tr>\n",
       "      <th>2</th>\n",
       "      <td>0.0</td>\n",
       "      <td>6.0</td>\n",
       "      <td>0.662338</td>\n",
       "      <td>0</td>\n",
       "      <td>no</td>\n",
       "      <td>no_snow</td>\n",
       "    </tr>\n",
       "    <tr>\n",
       "      <th>3</th>\n",
       "      <td>0.0</td>\n",
       "      <td>6.0</td>\n",
       "      <td>0.545455</td>\n",
       "      <td>0</td>\n",
       "      <td>no</td>\n",
       "      <td>no_snow</td>\n",
       "    </tr>\n",
       "    <tr>\n",
       "      <th>4</th>\n",
       "      <td>0.0</td>\n",
       "      <td>6.0</td>\n",
       "      <td>0.532468</td>\n",
       "      <td>0</td>\n",
       "      <td>no</td>\n",
       "      <td>no_snow</td>\n",
       "    </tr>\n",
       "  </tbody>\n",
       "</table>\n",
       "</div>"
      ],
      "text/plain": [
       "   Visib_miles  Humidity     Cloud  Feels_like_c wind_north_direction  \\\n",
       "0          0.0       6.0  0.714286             0                   no   \n",
       "1          0.0       6.0  0.688312             0                   no   \n",
       "2          0.0       6.0  0.662338             0                   no   \n",
       "3          0.0       6.0  0.545455             0                   no   \n",
       "4          0.0       6.0  0.532468             0                   no   \n",
       "\n",
       "  snow_or_not  \n",
       "0     no_snow  \n",
       "1     no_snow  \n",
       "2     no_snow  \n",
       "3     no_snow  \n",
       "4     no_snow  "
      ]
     },
     "execution_count": 3,
     "metadata": {},
     "output_type": "execute_result"
    }
   ],
   "source": [
    "df.head()"
   ]
  },
  {
   "cell_type": "code",
   "execution_count": 4,
   "id": "2a71b346-b7e7-4cd3-a3fa-ff9a414764c3",
   "metadata": {},
   "outputs": [],
   "source": [
    "df = df.drop(columns=[ \"wind_north_direction\", \"Humidity\"])"
   ]
  },
  {
   "cell_type": "code",
   "execution_count": 5,
   "id": "25e0e604",
   "metadata": {},
   "outputs": [
    {
     "data": {
      "text/html": [
       "<div>\n",
       "<style scoped>\n",
       "    .dataframe tbody tr th:only-of-type {\n",
       "        vertical-align: middle;\n",
       "    }\n",
       "\n",
       "    .dataframe tbody tr th {\n",
       "        vertical-align: top;\n",
       "    }\n",
       "\n",
       "    .dataframe thead th {\n",
       "        text-align: right;\n",
       "    }\n",
       "</style>\n",
       "<table border=\"1\" class=\"dataframe\">\n",
       "  <thead>\n",
       "    <tr style=\"text-align: right;\">\n",
       "      <th></th>\n",
       "      <th>Visib_miles</th>\n",
       "      <th>Cloud</th>\n",
       "      <th>Feels_like_c</th>\n",
       "      <th>snow_or_not</th>\n",
       "    </tr>\n",
       "  </thead>\n",
       "  <tbody>\n",
       "    <tr>\n",
       "      <th>0</th>\n",
       "      <td>0.0</td>\n",
       "      <td>0.714286</td>\n",
       "      <td>0</td>\n",
       "      <td>no_snow</td>\n",
       "    </tr>\n",
       "    <tr>\n",
       "      <th>1</th>\n",
       "      <td>0.0</td>\n",
       "      <td>0.688312</td>\n",
       "      <td>0</td>\n",
       "      <td>no_snow</td>\n",
       "    </tr>\n",
       "    <tr>\n",
       "      <th>2</th>\n",
       "      <td>0.0</td>\n",
       "      <td>0.662338</td>\n",
       "      <td>0</td>\n",
       "      <td>no_snow</td>\n",
       "    </tr>\n",
       "    <tr>\n",
       "      <th>3</th>\n",
       "      <td>0.0</td>\n",
       "      <td>0.545455</td>\n",
       "      <td>0</td>\n",
       "      <td>no_snow</td>\n",
       "    </tr>\n",
       "    <tr>\n",
       "      <th>4</th>\n",
       "      <td>0.0</td>\n",
       "      <td>0.532468</td>\n",
       "      <td>0</td>\n",
       "      <td>no_snow</td>\n",
       "    </tr>\n",
       "  </tbody>\n",
       "</table>\n",
       "</div>"
      ],
      "text/plain": [
       "   Visib_miles     Cloud  Feels_like_c snow_or_not\n",
       "0          0.0  0.714286             0     no_snow\n",
       "1          0.0  0.688312             0     no_snow\n",
       "2          0.0  0.662338             0     no_snow\n",
       "3          0.0  0.545455             0     no_snow\n",
       "4          0.0  0.532468             0     no_snow"
      ]
     },
     "execution_count": 5,
     "metadata": {},
     "output_type": "execute_result"
    }
   ],
   "source": [
    "df.head()"
   ]
  },
  {
   "cell_type": "code",
   "execution_count": 6,
   "id": "d993a3ef",
   "metadata": {},
   "outputs": [
    {
     "data": {
      "text/plain": [
       "no_snow           3637\n",
       "chance_of_snow    1403\n",
       "Name: snow_or_not, dtype: int64"
      ]
     },
     "execution_count": 6,
     "metadata": {},
     "output_type": "execute_result"
    }
   ],
   "source": [
    "df['snow_or_not'].value_counts()"
   ]
  },
  {
   "cell_type": "code",
   "execution_count": 7,
   "id": "77e8683a",
   "metadata": {},
   "outputs": [],
   "source": [
    "df_1 = df[df[\"snow_or_not\"] == \"no_snow\"].sample(n=1000, random_state=42)\n",
    "df_2 = df[df[\"snow_or_not\"] == \"chance_of_snow\"].sample(n=1000, random_state=42)"
   ]
  },
  {
   "cell_type": "code",
   "execution_count": 8,
   "id": "840ec044",
   "metadata": {},
   "outputs": [],
   "source": [
    "df = pd.concat([df_1, df_2], ignore_index=True)"
   ]
  },
  {
   "cell_type": "code",
   "execution_count": 9,
   "id": "9f4c319b",
   "metadata": {},
   "outputs": [
    {
     "data": {
      "text/html": [
       "<div>\n",
       "<style scoped>\n",
       "    .dataframe tbody tr th:only-of-type {\n",
       "        vertical-align: middle;\n",
       "    }\n",
       "\n",
       "    .dataframe tbody tr th {\n",
       "        vertical-align: top;\n",
       "    }\n",
       "\n",
       "    .dataframe thead th {\n",
       "        text-align: right;\n",
       "    }\n",
       "</style>\n",
       "<table border=\"1\" class=\"dataframe\">\n",
       "  <thead>\n",
       "    <tr style=\"text-align: right;\">\n",
       "      <th></th>\n",
       "      <th>Visib_miles</th>\n",
       "      <th>Cloud</th>\n",
       "      <th>Feels_like_c</th>\n",
       "      <th>snow_or_not</th>\n",
       "    </tr>\n",
       "  </thead>\n",
       "  <tbody>\n",
       "    <tr>\n",
       "      <th>0</th>\n",
       "      <td>0.00</td>\n",
       "      <td>0.636364</td>\n",
       "      <td>34</td>\n",
       "      <td>no_snow</td>\n",
       "    </tr>\n",
       "    <tr>\n",
       "      <th>1</th>\n",
       "      <td>0.00</td>\n",
       "      <td>0.272727</td>\n",
       "      <td>3</td>\n",
       "      <td>no_snow</td>\n",
       "    </tr>\n",
       "    <tr>\n",
       "      <th>2</th>\n",
       "      <td>0.17</td>\n",
       "      <td>0.935065</td>\n",
       "      <td>90</td>\n",
       "      <td>no_snow</td>\n",
       "    </tr>\n",
       "    <tr>\n",
       "      <th>3</th>\n",
       "      <td>0.00</td>\n",
       "      <td>0.753247</td>\n",
       "      <td>75</td>\n",
       "      <td>no_snow</td>\n",
       "    </tr>\n",
       "    <tr>\n",
       "      <th>4</th>\n",
       "      <td>1.79</td>\n",
       "      <td>0.506494</td>\n",
       "      <td>90</td>\n",
       "      <td>no_snow</td>\n",
       "    </tr>\n",
       "  </tbody>\n",
       "</table>\n",
       "</div>"
      ],
      "text/plain": [
       "   Visib_miles     Cloud  Feels_like_c snow_or_not\n",
       "0         0.00  0.636364            34     no_snow\n",
       "1         0.00  0.272727             3     no_snow\n",
       "2         0.17  0.935065            90     no_snow\n",
       "3         0.00  0.753247            75     no_snow\n",
       "4         1.79  0.506494            90     no_snow"
      ]
     },
     "execution_count": 9,
     "metadata": {},
     "output_type": "execute_result"
    }
   ],
   "source": [
    "df.head()"
   ]
  },
  {
   "cell_type": "code",
   "execution_count": 10,
   "id": "d1d4ea03",
   "metadata": {},
   "outputs": [
    {
     "data": {
      "text/plain": [
       "no_snow           1000\n",
       "chance_of_snow    1000\n",
       "Name: snow_or_not, dtype: int64"
      ]
     },
     "execution_count": 10,
     "metadata": {},
     "output_type": "execute_result"
    }
   ],
   "source": [
    "df['snow_or_not'].value_counts()"
   ]
  },
  {
   "cell_type": "code",
   "execution_count": 11,
   "id": "6d24d0db-59e9-4b99-a9cd-655198806d0e",
   "metadata": {},
   "outputs": [],
   "source": [
    "train_df, test_df = train_test_split(df, test_size=0.2, random_state=321)"
   ]
  },
  {
   "cell_type": "code",
   "execution_count": 12,
   "id": "481cb63c",
   "metadata": {},
   "outputs": [
    {
     "data": {
      "text/html": [
       "<div>\n",
       "<style scoped>\n",
       "    .dataframe tbody tr th:only-of-type {\n",
       "        vertical-align: middle;\n",
       "    }\n",
       "\n",
       "    .dataframe tbody tr th {\n",
       "        vertical-align: top;\n",
       "    }\n",
       "\n",
       "    .dataframe thead th {\n",
       "        text-align: right;\n",
       "    }\n",
       "</style>\n",
       "<table border=\"1\" class=\"dataframe\">\n",
       "  <thead>\n",
       "    <tr style=\"text-align: right;\">\n",
       "      <th></th>\n",
       "      <th>Visib_miles</th>\n",
       "      <th>Cloud</th>\n",
       "      <th>Feels_like_c</th>\n",
       "      <th>snow_or_not</th>\n",
       "    </tr>\n",
       "  </thead>\n",
       "  <tbody>\n",
       "    <tr>\n",
       "      <th>234</th>\n",
       "      <td>0.00</td>\n",
       "      <td>0.285714</td>\n",
       "      <td>9</td>\n",
       "      <td>no_snow</td>\n",
       "    </tr>\n",
       "    <tr>\n",
       "      <th>737</th>\n",
       "      <td>0.09</td>\n",
       "      <td>0.909091</td>\n",
       "      <td>100</td>\n",
       "      <td>no_snow</td>\n",
       "    </tr>\n",
       "    <tr>\n",
       "      <th>601</th>\n",
       "      <td>0.00</td>\n",
       "      <td>0.779221</td>\n",
       "      <td>51</td>\n",
       "      <td>no_snow</td>\n",
       "    </tr>\n",
       "    <tr>\n",
       "      <th>1414</th>\n",
       "      <td>2.21</td>\n",
       "      <td>0.766234</td>\n",
       "      <td>60</td>\n",
       "      <td>chance_of_snow</td>\n",
       "    </tr>\n",
       "    <tr>\n",
       "      <th>1945</th>\n",
       "      <td>1.96</td>\n",
       "      <td>0.883117</td>\n",
       "      <td>100</td>\n",
       "      <td>chance_of_snow</td>\n",
       "    </tr>\n",
       "  </tbody>\n",
       "</table>\n",
       "</div>"
      ],
      "text/plain": [
       "      Visib_miles     Cloud  Feels_like_c     snow_or_not\n",
       "234          0.00  0.285714             9         no_snow\n",
       "737          0.09  0.909091           100         no_snow\n",
       "601          0.00  0.779221            51         no_snow\n",
       "1414         2.21  0.766234            60  chance_of_snow\n",
       "1945         1.96  0.883117           100  chance_of_snow"
      ]
     },
     "execution_count": 12,
     "metadata": {},
     "output_type": "execute_result"
    }
   ],
   "source": [
    "train_df.head()"
   ]
  },
  {
   "cell_type": "code",
   "execution_count": 13,
   "id": "58c553e7",
   "metadata": {},
   "outputs": [
    {
     "data": {
      "text/html": [
       "<div>\n",
       "<style scoped>\n",
       "    .dataframe tbody tr th:only-of-type {\n",
       "        vertical-align: middle;\n",
       "    }\n",
       "\n",
       "    .dataframe tbody tr th {\n",
       "        vertical-align: top;\n",
       "    }\n",
       "\n",
       "    .dataframe thead th {\n",
       "        text-align: right;\n",
       "    }\n",
       "</style>\n",
       "<table border=\"1\" class=\"dataframe\">\n",
       "  <thead>\n",
       "    <tr style=\"text-align: right;\">\n",
       "      <th></th>\n",
       "      <th>Visib_miles</th>\n",
       "      <th>Cloud</th>\n",
       "      <th>Feels_like_c</th>\n",
       "      <th>snow_or_not</th>\n",
       "    </tr>\n",
       "  </thead>\n",
       "  <tbody>\n",
       "    <tr>\n",
       "      <th>501</th>\n",
       "      <td>0.00</td>\n",
       "      <td>0.818182</td>\n",
       "      <td>89</td>\n",
       "      <td>no_snow</td>\n",
       "    </tr>\n",
       "    <tr>\n",
       "      <th>1064</th>\n",
       "      <td>3.15</td>\n",
       "      <td>0.974026</td>\n",
       "      <td>100</td>\n",
       "      <td>chance_of_snow</td>\n",
       "    </tr>\n",
       "    <tr>\n",
       "      <th>825</th>\n",
       "      <td>0.09</td>\n",
       "      <td>0.610390</td>\n",
       "      <td>83</td>\n",
       "      <td>no_snow</td>\n",
       "    </tr>\n",
       "    <tr>\n",
       "      <th>589</th>\n",
       "      <td>4.25</td>\n",
       "      <td>0.909091</td>\n",
       "      <td>14</td>\n",
       "      <td>no_snow</td>\n",
       "    </tr>\n",
       "    <tr>\n",
       "      <th>1649</th>\n",
       "      <td>0.00</td>\n",
       "      <td>0.896104</td>\n",
       "      <td>82</td>\n",
       "      <td>chance_of_snow</td>\n",
       "    </tr>\n",
       "  </tbody>\n",
       "</table>\n",
       "</div>"
      ],
      "text/plain": [
       "      Visib_miles     Cloud  Feels_like_c     snow_or_not\n",
       "501          0.00  0.818182            89         no_snow\n",
       "1064         3.15  0.974026           100  chance_of_snow\n",
       "825          0.09  0.610390            83         no_snow\n",
       "589          4.25  0.909091            14         no_snow\n",
       "1649         0.00  0.896104            82  chance_of_snow"
      ]
     },
     "execution_count": 13,
     "metadata": {},
     "output_type": "execute_result"
    }
   ],
   "source": [
    "test_df.head()"
   ]
  },
  {
   "cell_type": "code",
   "execution_count": 14,
   "id": "76a51624-42cf-431e-bb09-b71203893fe7",
   "metadata": {},
   "outputs": [],
   "source": [
    "y_train = train_df[\"snow_or_not\"]\n",
    "X_train = train_df.drop(columns=\"snow_or_not\")\n",
    "y_test = test_df[\"snow_or_not\"]\n",
    "X_test = test_df.drop(columns=\"snow_or_not\")"
   ]
  },
  {
   "cell_type": "code",
   "execution_count": 15,
   "id": "ae36277d-cdc9-4cad-82ca-4998a6c3567c",
   "metadata": {},
   "outputs": [
    {
     "data": {
      "text/html": [
       "<div>\n",
       "<style scoped>\n",
       "    .dataframe tbody tr th:only-of-type {\n",
       "        vertical-align: middle;\n",
       "    }\n",
       "\n",
       "    .dataframe tbody tr th {\n",
       "        vertical-align: top;\n",
       "    }\n",
       "\n",
       "    .dataframe thead th {\n",
       "        text-align: right;\n",
       "    }\n",
       "</style>\n",
       "<table border=\"1\" class=\"dataframe\">\n",
       "  <thead>\n",
       "    <tr style=\"text-align: right;\">\n",
       "      <th></th>\n",
       "      <th>Visib_miles</th>\n",
       "      <th>Cloud</th>\n",
       "      <th>Feels_like_c</th>\n",
       "    </tr>\n",
       "  </thead>\n",
       "  <tbody>\n",
       "    <tr>\n",
       "      <th>234</th>\n",
       "      <td>0.00</td>\n",
       "      <td>0.285714</td>\n",
       "      <td>9</td>\n",
       "    </tr>\n",
       "    <tr>\n",
       "      <th>737</th>\n",
       "      <td>0.09</td>\n",
       "      <td>0.909091</td>\n",
       "      <td>100</td>\n",
       "    </tr>\n",
       "    <tr>\n",
       "      <th>601</th>\n",
       "      <td>0.00</td>\n",
       "      <td>0.779221</td>\n",
       "      <td>51</td>\n",
       "    </tr>\n",
       "    <tr>\n",
       "      <th>1414</th>\n",
       "      <td>2.21</td>\n",
       "      <td>0.766234</td>\n",
       "      <td>60</td>\n",
       "    </tr>\n",
       "    <tr>\n",
       "      <th>1945</th>\n",
       "      <td>1.96</td>\n",
       "      <td>0.883117</td>\n",
       "      <td>100</td>\n",
       "    </tr>\n",
       "  </tbody>\n",
       "</table>\n",
       "</div>"
      ],
      "text/plain": [
       "      Visib_miles     Cloud  Feels_like_c\n",
       "234          0.00  0.285714             9\n",
       "737          0.09  0.909091           100\n",
       "601          0.00  0.779221            51\n",
       "1414         2.21  0.766234            60\n",
       "1945         1.96  0.883117           100"
      ]
     },
     "execution_count": 15,
     "metadata": {},
     "output_type": "execute_result"
    }
   ],
   "source": [
    "X_train.head()"
   ]
  },
  {
   "cell_type": "code",
   "execution_count": 16,
   "id": "3eebba82-1951-4228-83e4-24389b0c0a34",
   "metadata": {},
   "outputs": [
    {
     "data": {
      "text/plain": [
       "234            no_snow\n",
       "737            no_snow\n",
       "601            no_snow\n",
       "1414    chance_of_snow\n",
       "1945    chance_of_snow\n",
       "Name: snow_or_not, dtype: object"
      ]
     },
     "execution_count": 16,
     "metadata": {},
     "output_type": "execute_result"
    }
   ],
   "source": [
    "y_train.head()"
   ]
  },
  {
   "cell_type": "code",
   "execution_count": 17,
   "id": "e81fb740-9196-418f-81b5-8bfbd424935b",
   "metadata": {},
   "outputs": [
    {
     "data": {
      "text/html": [
       "<div>\n",
       "<style scoped>\n",
       "    .dataframe tbody tr th:only-of-type {\n",
       "        vertical-align: middle;\n",
       "    }\n",
       "\n",
       "    .dataframe tbody tr th {\n",
       "        vertical-align: top;\n",
       "    }\n",
       "\n",
       "    .dataframe thead th {\n",
       "        text-align: right;\n",
       "    }\n",
       "</style>\n",
       "<table border=\"1\" class=\"dataframe\">\n",
       "  <thead>\n",
       "    <tr style=\"text-align: right;\">\n",
       "      <th></th>\n",
       "      <th>Visib_miles</th>\n",
       "      <th>Cloud</th>\n",
       "      <th>Feels_like_c</th>\n",
       "    </tr>\n",
       "  </thead>\n",
       "  <tbody>\n",
       "    <tr>\n",
       "      <th>501</th>\n",
       "      <td>0.00</td>\n",
       "      <td>0.818182</td>\n",
       "      <td>89</td>\n",
       "    </tr>\n",
       "    <tr>\n",
       "      <th>1064</th>\n",
       "      <td>3.15</td>\n",
       "      <td>0.974026</td>\n",
       "      <td>100</td>\n",
       "    </tr>\n",
       "    <tr>\n",
       "      <th>825</th>\n",
       "      <td>0.09</td>\n",
       "      <td>0.610390</td>\n",
       "      <td>83</td>\n",
       "    </tr>\n",
       "    <tr>\n",
       "      <th>589</th>\n",
       "      <td>4.25</td>\n",
       "      <td>0.909091</td>\n",
       "      <td>14</td>\n",
       "    </tr>\n",
       "    <tr>\n",
       "      <th>1649</th>\n",
       "      <td>0.00</td>\n",
       "      <td>0.896104</td>\n",
       "      <td>82</td>\n",
       "    </tr>\n",
       "  </tbody>\n",
       "</table>\n",
       "</div>"
      ],
      "text/plain": [
       "      Visib_miles     Cloud  Feels_like_c\n",
       "501          0.00  0.818182            89\n",
       "1064         3.15  0.974026           100\n",
       "825          0.09  0.610390            83\n",
       "589          4.25  0.909091            14\n",
       "1649         0.00  0.896104            82"
      ]
     },
     "execution_count": 17,
     "metadata": {},
     "output_type": "execute_result"
    }
   ],
   "source": [
    "X_test.head()"
   ]
  },
  {
   "cell_type": "code",
   "execution_count": 18,
   "id": "e89aff68-e48e-488b-96ec-e203f57e78ab",
   "metadata": {},
   "outputs": [
    {
     "data": {
      "text/plain": [
       "501            no_snow\n",
       "1064    chance_of_snow\n",
       "825            no_snow\n",
       "589            no_snow\n",
       "1649    chance_of_snow\n",
       "Name: snow_or_not, dtype: object"
      ]
     },
     "execution_count": 18,
     "metadata": {},
     "output_type": "execute_result"
    }
   ],
   "source": [
    "y_test.head()"
   ]
  },
  {
   "cell_type": "code",
   "execution_count": 19,
   "id": "5052d55d-467f-4c94-a2c2-c8d4be54aa06",
   "metadata": {},
   "outputs": [],
   "source": [
    "from sklearn.svm import SVC"
   ]
  },
  {
   "cell_type": "code",
   "execution_count": 20,
   "id": "765952a3-8e79-46fc-9c5b-4c234caed54f",
   "metadata": {},
   "outputs": [],
   "source": [
    "svm = SVC()"
   ]
  },
  {
   "cell_type": "code",
   "execution_count": 21,
   "id": "bb743948-ead3-433c-af75-72bc9828a8d0",
   "metadata": {},
   "outputs": [
    {
     "data": {
      "text/plain": [
       "SVC()"
      ]
     },
     "execution_count": 21,
     "metadata": {},
     "output_type": "execute_result"
    }
   ],
   "source": [
    "svm.fit(X_train,y_train)"
   ]
  },
  {
   "cell_type": "code",
   "execution_count": 22,
   "id": "fa849adf-5a46-41a6-aaf2-8d35972d1a3c",
   "metadata": {},
   "outputs": [],
   "source": [
    "svm_pred= svm.predict(X_test)"
   ]
  },
  {
   "cell_type": "code",
   "execution_count": 23,
   "id": "e4b9c436-9ee9-460b-8309-172a55b45ee6",
   "metadata": {},
   "outputs": [],
   "source": [
    "from sklearn.metrics import confusion_matrix "
   ]
  },
  {
   "cell_type": "code",
   "execution_count": 24,
   "id": "410b6636-51c6-4471-9956-e6c6a6c74f27",
   "metadata": {},
   "outputs": [
    {
     "data": {
      "text/plain": [
       "array([[198,  17],\n",
       "       [ 85, 100]])"
      ]
     },
     "execution_count": 24,
     "metadata": {},
     "output_type": "execute_result"
    }
   ],
   "source": [
    "cm = confusion_matrix(y_test, svm_pred)\n",
    "cm"
   ]
  },
  {
   "cell_type": "code",
   "execution_count": 25,
   "id": "4c1e9bf9-5a35-4886-b1fd-393dd402132b",
   "metadata": {},
   "outputs": [
    {
     "data": {
      "image/png": "[encoded data removed]",
      "text/plain": [
       "<Figure size 1080x576 with 2 Axes>"
      ]
     },
     "metadata": {
      "needs_background": "light"
     },
     "output_type": "display_data"
    }
   ],
   "source": [
    "plt.figure(figsize = (15,8))\n",
    "sns.heatmap(cm, annot = True, fmt = 'd', cmap = \"Blues\")\n",
    "plt.xlabel(\"Predicted values\")\n",
    "plt.ylabel(\"Actual values\")\n",
    "plt.show()"
   ]
  },
  {
   "cell_type": "code",
   "execution_count": 26,
   "id": "6e79941f-ffb4-4114-8fee-4d7865230022",
   "metadata": {},
   "outputs": [],
   "source": [
    "from sklearn.metrics import accuracy_score"
   ]
  },
  {
   "cell_type": "code",
   "execution_count": 27,
   "id": "13db64cd-ffba-47d5-be5f-78ab1bd3e804",
   "metadata": {},
   "outputs": [
    {
     "data": {
      "text/plain": [
       "0.745"
      ]
     },
     "execution_count": 27,
     "metadata": {},
     "output_type": "execute_result"
    }
   ],
   "source": [
    "accuracy_score(y_test, svm_pred)"
   ]
  },
  {
   "cell_type": "code",
   "execution_count": 28,
   "id": "08b7019c-2e7a-43fc-8d69-563046dffffa",
   "metadata": {},
   "outputs": [],
   "source": [
    "#Tuning the C parameters"
   ]
  },
  {
   "cell_type": "code",
   "execution_count": 29,
   "id": "3e70b09d-e15f-46e0-9beb-bf5612da41ab",
   "metadata": {},
   "outputs": [],
   "source": [
    "svm = SVC(kernel = 'rbf', C = 150)"
   ]
  },
  {
   "cell_type": "code",
   "execution_count": 30,
   "id": "abff4fa0-63f8-4d58-998a-81283894b8f4",
   "metadata": {},
   "outputs": [
    {
     "data": {
      "text/plain": [
       "SVC(C=150)"
      ]
     },
     "execution_count": 30,
     "metadata": {},
     "output_type": "execute_result"
    }
   ],
   "source": [
    "svm.fit(X_train, y_train)"
   ]
  },
  {
   "cell_type": "code",
   "execution_count": 31,
   "id": "4a5ee3c1-5980-40f1-8393-37d13eafb957",
   "metadata": {},
   "outputs": [],
   "source": [
    "svm_pred_1 = svm.predict(X_test)"
   ]
  },
  {
   "cell_type": "code",
   "execution_count": 32,
   "id": "418283ba-1f8f-4948-b674-82aca9deb7d9",
   "metadata": {},
   "outputs": [
    {
     "data": {
      "text/plain": [
       "array([[160,  55],\n",
       "       [ 32, 153]])"
      ]
     },
     "execution_count": 32,
     "metadata": {},
     "output_type": "execute_result"
    }
   ],
   "source": [
    "cm = confusion_matrix(y_test, svm_pred_1)\n",
    "cm"
   ]
  },
  {
   "cell_type": "code",
   "execution_count": 33,
   "id": "13600f5a-067b-4b6b-9e78-eb65fd928e4a",
   "metadata": {},
   "outputs": [
    {
     "data": {
      "image/png": "[encoded data removed]",
      "text/plain": [
       "<Figure size 720x432 with 2 Axes>"
      ]
     },
     "metadata": {
      "needs_background": "light"
     },
     "output_type": "display_data"
    }
   ],
   "source": [
    "plt.figure(figsize = (10,6))\n",
    "sns.heatmap(cm, annot = True, fmt = 'd', cmap = \"Blues\")\n",
    "plt.xlabel(\"Predicted values\")\n",
    "plt.ylabel(\"Actual values\")\n",
    "plt.show()"
   ]
  },
  {
   "cell_type": "code",
   "execution_count": 34,
   "id": "e0395431-7104-4b27-b002-262126d2403f",
   "metadata": {},
   "outputs": [
    {
     "data": {
      "text/plain": [
       "0.7825"
      ]
     },
     "execution_count": 34,
     "metadata": {},
     "output_type": "execute_result"
    }
   ],
   "source": [
    "accuracy_score(y_test, svm_pred_1)"
   ]
  },
  {
   "cell_type": "code",
   "execution_count": 35,
   "id": "1162dda8-6d74-4080-88ad-c510f25d749b",
   "metadata": {},
   "outputs": [],
   "source": [
    "svm = SVC(kernel = 'rbf', C = 200)"
   ]
  },
  {
   "cell_type": "code",
   "execution_count": 36,
   "id": "9d345464-aa8d-46b4-8986-9b581ec13249",
   "metadata": {},
   "outputs": [
    {
     "data": {
      "text/plain": [
       "SVC(C=200)"
      ]
     },
     "execution_count": 36,
     "metadata": {},
     "output_type": "execute_result"
    }
   ],
   "source": [
    "svm.fit(X_train,y_train)"
   ]
  },
  {
   "cell_type": "code",
   "execution_count": 37,
   "id": "7fd011ff-cfcb-45c8-b9e0-eb0aab6fe3ea",
   "metadata": {},
   "outputs": [],
   "source": [
    "svm_pred_2 = svm.predict(X_test)"
   ]
  },
  {
   "cell_type": "code",
   "execution_count": 38,
   "id": "b0239a97-727f-4fd4-b98b-33cba726dcb6",
   "metadata": {},
   "outputs": [
    {
     "data": {
      "text/plain": [
       "array([[160,  55],\n",
       "       [ 33, 152]])"
      ]
     },
     "execution_count": 38,
     "metadata": {},
     "output_type": "execute_result"
    }
   ],
   "source": [
    "cm = confusion_matrix(y_test, svm_pred_2)\n",
    "cm"
   ]
  },
  {
   "cell_type": "code",
   "execution_count": 39,
   "id": "36a157c8-7448-4a80-a953-47ea9c909fae",
   "metadata": {},
   "outputs": [
    {
     "data": {
      "image/png": "[encoded data removed]",
      "text/plain": [
       "<Figure size 1080x576 with 2 Axes>"
      ]
     },
     "metadata": {
      "needs_background": "light"
     },
     "output_type": "display_data"
    }
   ],
   "source": [
    "plt.figure(figsize = (15,8))\n",
    "sns.heatmap(cm, annot = True, fmt = 'd', cmap = \"Blues\")\n",
    "plt.xlabel(\"Predicted values\")\n",
    "plt.ylabel(\"Actual values\")\n",
    "plt.show()"
   ]
  },
  {
   "cell_type": "code",
   "execution_count": 40,
   "id": "2dcdd0e1-22ec-437f-8245-51e02623f76a",
   "metadata": {},
   "outputs": [
    {
     "data": {
      "text/plain": [
       "0.78"
      ]
     },
     "execution_count": 40,
     "metadata": {},
     "output_type": "execute_result"
    }
   ],
   "source": [
    "accuracy_score(y_test, svm_pred_2)"
   ]
  },
  {
   "cell_type": "code",
   "execution_count": 41,
   "id": "1b902281-4d32-4ae9-9722-952fd9c13716",
   "metadata": {},
   "outputs": [],
   "source": [
    "#Polynomial Kernal"
   ]
  },
  {
   "cell_type": "code",
   "execution_count": 42,
   "id": "ffdc52cd-18e1-495b-adef-e076c4d0d61b",
   "metadata": {},
   "outputs": [],
   "source": [
    "svm_poly = SVC(kernel = 'poly')"
   ]
  },
  {
   "cell_type": "code",
   "execution_count": 43,
   "id": "db1f19bd-a7bf-4129-8c95-b170d4f71f51",
   "metadata": {},
   "outputs": [
    {
     "data": {
      "text/plain": [
       "SVC(kernel='poly')"
      ]
     },
     "execution_count": 43,
     "metadata": {},
     "output_type": "execute_result"
    }
   ],
   "source": [
    "svm_poly.fit(X_train,y_train)"
   ]
  },
  {
   "cell_type": "code",
   "execution_count": 44,
   "id": "4d8923d0-df0e-4ac8-9f53-5f4f81a32d14",
   "metadata": {},
   "outputs": [],
   "source": [
    "svm_poly_pred = svm.predict(X_test)"
   ]
  },
  {
   "cell_type": "code",
   "execution_count": 45,
   "id": "fc3de811-5bbb-48bc-891a-715d8f9df8ea",
   "metadata": {},
   "outputs": [
    {
     "data": {
      "text/plain": [
       "array([[160,  55],\n",
       "       [ 33, 152]])"
      ]
     },
     "execution_count": 45,
     "metadata": {},
     "output_type": "execute_result"
    }
   ],
   "source": [
    "cm = confusion_matrix(y_test, svm_poly_pred)\n",
    "cm"
   ]
  },
  {
   "cell_type": "code",
   "execution_count": 46,
   "id": "25d89b3d-abae-4686-a2d7-b5655602c969",
   "metadata": {},
   "outputs": [
    {
     "data": {
      "image/png": "[encoded data removed]",
      "text/plain": [
       "<Figure size 720x432 with 2 Axes>"
      ]
     },
     "metadata": {
      "needs_background": "light"
     },
     "output_type": "display_data"
    }
   ],
   "source": [
    "plt.figure(figsize = (10,6))\n",
    "sns.heatmap(cm, annot = True, fmt = 'd', cmap = \"Blues\")\n",
    "plt.xlabel(\"Predicted values\")\n",
    "plt.ylabel(\"Actual values\")\n",
    "plt.show()"
   ]
  },
  {
   "cell_type": "code",
   "execution_count": 47,
   "id": "92f0bca7-6d73-4449-bf58-474648089564",
   "metadata": {},
   "outputs": [
    {
     "data": {
      "text/plain": [
       "0.78"
      ]
     },
     "execution_count": 47,
     "metadata": {},
     "output_type": "execute_result"
    }
   ],
   "source": [
    "accuracy_score(y_test, svm_poly_pred)"
   ]
  },
  {
   "cell_type": "code",
   "execution_count": 48,
   "id": "54843d17-c17b-4693-ac7a-2fd274892a70",
   "metadata": {},
   "outputs": [],
   "source": [
    "svm_poly = SVC(kernel = 'poly', C = 125)"
   ]
  },
  {
   "cell_type": "code",
   "execution_count": 49,
   "id": "e706fd89-9ef9-42ce-8c33-5c0afac79bea",
   "metadata": {},
   "outputs": [
    {
     "data": {
      "text/plain": [
       "SVC(C=125, kernel='poly')"
      ]
     },
     "execution_count": 49,
     "metadata": {},
     "output_type": "execute_result"
    }
   ],
   "source": [
    "svm_poly.fit(X_train,y_train)"
   ]
  },
  {
   "cell_type": "code",
   "execution_count": 50,
   "id": "b1ca8584-0eb4-472c-9c5f-8e204df18eaf",
   "metadata": {},
   "outputs": [],
   "source": [
    "svm_poly_pred_1 = svm_poly.predict(X_test)"
   ]
  },
  {
   "cell_type": "code",
   "execution_count": 51,
   "id": "ea93db42-c5e6-489e-b492-1848701c8fa0",
   "metadata": {},
   "outputs": [
    {
     "data": {
      "text/plain": [
       "array([[157,  58],\n",
       "       [ 34, 151]])"
      ]
     },
     "execution_count": 51,
     "metadata": {},
     "output_type": "execute_result"
    }
   ],
   "source": [
    "cm = confusion_matrix(y_test, svm_poly_pred_1)\n",
    "cm"
   ]
  },
  {
   "cell_type": "code",
   "execution_count": 52,
   "id": "c35d31e3-e5bc-4026-a3fb-0c9da840ab76",
   "metadata": {},
   "outputs": [
    {
     "data": {
      "image/png": "[encoded data removed]",
      "text/plain": [
       "<Figure size 1080x576 with 2 Axes>"
      ]
     },
     "metadata": {
      "needs_background": "light"
     },
     "output_type": "display_data"
    }
   ],
   "source": [
    "plt.figure(figsize = (15,8))\n",
    "sns.heatmap(cm, annot = True, fmt = 'd', cmap = \"Blues\")\n",
    "plt.xlabel(\"Predicted values\")\n",
    "plt.ylabel(\"Actual values\")\n",
    "plt.show()"
   ]
  },
  {
   "cell_type": "code",
   "execution_count": 53,
   "id": "f2959569-d4c2-42f2-9662-195bd445e35d",
   "metadata": {},
   "outputs": [
    {
     "data": {
      "text/plain": [
       "0.77"
      ]
     },
     "execution_count": 53,
     "metadata": {},
     "output_type": "execute_result"
    }
   ],
   "source": [
    "accuracy_score(y_test, svm_poly_pred_1)"
   ]
  },
  {
   "cell_type": "code",
   "execution_count": 54,
   "id": "06aba57f-44e4-4867-b7ab-38aeff6d94b4",
   "metadata": {},
   "outputs": [],
   "source": [
    "svm_poly = SVC(kernel = 'poly', C = 340)"
   ]
  },
  {
   "cell_type": "code",
   "execution_count": 55,
   "id": "7d5423d9-af73-4f02-a454-ad35073b0c56",
   "metadata": {},
   "outputs": [
    {
     "data": {
      "text/plain": [
       "SVC(C=340, kernel='poly')"
      ]
     },
     "execution_count": 55,
     "metadata": {},
     "output_type": "execute_result"
    }
   ],
   "source": [
    "svm_poly.fit(X_train,y_train)"
   ]
  },
  {
   "cell_type": "code",
   "execution_count": 56,
   "id": "ba524e2c-457a-4382-b227-93e24d977ba6",
   "metadata": {},
   "outputs": [],
   "source": [
    "svm_poly_pred_2 = svm_poly.predict(X_test)"
   ]
  },
  {
   "cell_type": "code",
   "execution_count": 57,
   "id": "55df549e-fab1-4ab9-8155-daa87f5d7651",
   "metadata": {},
   "outputs": [],
   "source": [
    "cm = confusion_matrix(y_test, svm_poly_pred_2)"
   ]
  },
  {
   "cell_type": "code",
   "execution_count": 58,
   "id": "d32fa1f6-d9f4-4675-98be-ba371b2c3a21",
   "metadata": {},
   "outputs": [
    {
     "data": {
      "image/png": "[encoded data removed]",
      "text/plain": [
       "<Figure size 1080x576 with 2 Axes>"
      ]
     },
     "metadata": {
      "needs_background": "light"
     },
     "output_type": "display_data"
    }
   ],
   "source": [
    "plt.figure(figsize = (15,8))\n",
    "sns.heatmap(cm, annot = True, fmt = 'd', cmap = \"Blues\")\n",
    "plt.xlabel(\"Predicted values\")\n",
    "plt.ylabel(\"Actual values\")\n",
    "plt.show()"
   ]
  },
  {
   "cell_type": "code",
   "execution_count": 59,
   "id": "c41e45e3-4477-491d-b98e-41a15a1d53c5",
   "metadata": {},
   "outputs": [
    {
     "data": {
      "text/plain": [
       "0.7775"
      ]
     },
     "execution_count": 59,
     "metadata": {},
     "output_type": "execute_result"
    }
   ],
   "source": [
    "accuracy_score(y_test, svm_poly_pred_2)"
   ]
  },
  {
   "cell_type": "code",
   "execution_count": 60,
   "id": "b1695322-2594-4c17-9fe0-4d88179f9f44",
   "metadata": {},
   "outputs": [],
   "source": [
    "#Linear Kernal"
   ]
  },
  {
   "cell_type": "code",
   "execution_count": 61,
   "id": "ee2328e6-d639-4049-8dd1-f7a9e3a8bcd9",
   "metadata": {},
   "outputs": [],
   "source": [
    "svm_lin = SVC(kernel = \"linear\")"
   ]
  },
  {
   "cell_type": "code",
   "execution_count": 62,
   "id": "6999c423-398b-4d71-8391-9892e3346188",
   "metadata": {},
   "outputs": [
    {
     "data": {
      "text/plain": [
       "SVC(kernel='linear')"
      ]
     },
     "execution_count": 62,
     "metadata": {},
     "output_type": "execute_result"
    }
   ],
   "source": [
    "svm_lin.fit(X_train,y_train)"
   ]
  },
  {
   "cell_type": "code",
   "execution_count": 63,
   "id": "efe6fe51-0f0d-4b40-a3e0-0e302d344ffe",
   "metadata": {},
   "outputs": [],
   "source": [
    "y_pred_lin = svm_lin.predict(X_test)"
   ]
  },
  {
   "cell_type": "code",
   "execution_count": 64,
   "id": "22d90641-a608-442e-9394-4f78b35f3ee6",
   "metadata": {},
   "outputs": [],
   "source": [
    "cm = confusion_matrix(y_test, y_pred_lin)"
   ]
  },
  {
   "cell_type": "code",
   "execution_count": 65,
   "id": "565b49d9-37fd-4ec9-b3ae-983c0e66b207",
   "metadata": {},
   "outputs": [
    {
     "data": {
      "image/png": "[encoded data removed]",
      "text/plain": [
       "<Figure size 720x432 with 2 Axes>"
      ]
     },
     "metadata": {
      "needs_background": "light"
     },
     "output_type": "display_data"
    }
   ],
   "source": [
    "plt.figure(figsize = (10,6))\n",
    "sns.heatmap(cm, annot = True, fmt = 'd', cmap = \"Blues\")\n",
    "plt.xlabel(\"Predicted values\")\n",
    "plt.ylabel(\"Actual values\")\n",
    "plt.show()"
   ]
  },
  {
   "cell_type": "code",
   "execution_count": 66,
   "id": "fdd580c4-41f5-49a6-9949-3c99d86448f4",
   "metadata": {},
   "outputs": [
    {
     "data": {
      "text/plain": [
       "0.7725"
      ]
     },
     "execution_count": 66,
     "metadata": {},
     "output_type": "execute_result"
    }
   ],
   "source": [
    "accuracy_score(y_test, y_pred_lin)"
   ]
  },
  {
   "cell_type": "code",
   "execution_count": 67,
   "id": "c9639244-8040-481b-97c2-cc3699f1a186",
   "metadata": {},
   "outputs": [],
   "source": [
    "svm_lin = SVC(kernel = \"linear\", C = 85)"
   ]
  },
  {
   "cell_type": "code",
   "execution_count": 68,
   "id": "86d38bef-6b9d-446a-a001-a3aa5e012254",
   "metadata": {},
   "outputs": [
    {
     "data": {
      "text/plain": [
       "SVC(C=85, kernel='linear')"
      ]
     },
     "execution_count": 68,
     "metadata": {},
     "output_type": "execute_result"
    }
   ],
   "source": [
    "svm_lin.fit(X_train,y_train)"
   ]
  },
  {
   "cell_type": "code",
   "execution_count": 69,
   "id": "d0238941-b64a-4e76-a4e4-e6645f4e2578",
   "metadata": {},
   "outputs": [],
   "source": [
    "y_pred_lin1 = svm_lin.predict(X_test)"
   ]
  },
  {
   "cell_type": "code",
   "execution_count": 70,
   "id": "401ad58e-de67-4b8f-af2f-da4373c2d800",
   "metadata": {},
   "outputs": [
    {
     "data": {
      "text/plain": [
       "array([[187,  28],\n",
       "       [ 64, 121]])"
      ]
     },
     "execution_count": 70,
     "metadata": {},
     "output_type": "execute_result"
    }
   ],
   "source": [
    "cm = confusion_matrix(y_test, y_pred_lin1)\n",
    "cm"
   ]
  },
  {
   "cell_type": "code",
   "execution_count": 71,
   "id": "52761b1d-1ea6-4233-851f-b787393b063d",
   "metadata": {},
   "outputs": [
    {
     "data": {
      "image/png": "[encoded data removed]",
      "text/plain": [
       "<Figure size 1080x576 with 2 Axes>"
      ]
     },
     "metadata": {
      "needs_background": "light"
     },
     "output_type": "display_data"
    }
   ],
   "source": [
    "plt.figure(figsize = (15,8))\n",
    "sns.heatmap(cm, annot = True, fmt = 'd', cmap = \"Blues\")\n",
    "plt.xlabel(\"Predicted values\")\n",
    "plt.ylabel(\"Actual values\")\n",
    "plt.show()"
   ]
  },
  {
   "cell_type": "code",
   "execution_count": 72,
   "id": "afcb8d69-2201-423b-a7b3-4826004a5ffb",
   "metadata": {},
   "outputs": [
    {
     "data": {
      "text/plain": [
       "0.77"
      ]
     },
     "execution_count": 72,
     "metadata": {},
     "output_type": "execute_result"
    }
   ],
   "source": [
    "accuracy_score(y_test, y_pred_lin1)"
   ]
  },
  {
   "cell_type": "code",
   "execution_count": 73,
   "id": "c6250ac1-bd62-4ffe-8328-7bfed015373f",
   "metadata": {},
   "outputs": [],
   "source": [
    "svm_lin = SVC(kernel = \"linear\", C = 150)"
   ]
  },
  {
   "cell_type": "code",
   "execution_count": 74,
   "id": "5dcb2fa7-4b2c-4f35-a82e-a14de36a69f0",
   "metadata": {},
   "outputs": [
    {
     "data": {
      "text/plain": [
       "SVC(C=150, kernel='linear')"
      ]
     },
     "execution_count": 74,
     "metadata": {},
     "output_type": "execute_result"
    }
   ],
   "source": [
    "svm_lin.fit(X_train,y_train)"
   ]
  },
  {
   "cell_type": "code",
   "execution_count": 75,
   "id": "05c25b26-0dba-4538-aacf-a717875e43b0",
   "metadata": {},
   "outputs": [],
   "source": [
    "y_pred_lin2 = svm_lin.predict(X_test)"
   ]
  },
  {
   "cell_type": "code",
   "execution_count": 76,
   "id": "bd85c1cc-4afc-48a1-ba8c-260b7038bc58",
   "metadata": {},
   "outputs": [
    {
     "data": {
      "text/plain": [
       "array([[186,  29],\n",
       "       [ 61, 124]])"
      ]
     },
     "execution_count": 76,
     "metadata": {},
     "output_type": "execute_result"
    }
   ],
   "source": [
    "cm = confusion_matrix(y_test, y_pred_lin2)\n",
    "cm"
   ]
  },
  {
   "cell_type": "code",
   "execution_count": 77,
   "id": "4c76e58f-8020-4573-a75d-c206e4f2e920",
   "metadata": {},
   "outputs": [
    {
     "data": {
      "text/plain": [
       "0.775"
      ]
     },
     "execution_count": 77,
     "metadata": {},
     "output_type": "execute_result"
    }
   ],
   "source": [
    "accuracy_score(y_test, y_pred_lin2)"
   ]
  },
  {
   "cell_type": "code",
   "execution_count": 78,
   "id": "d340fedb-fdc2-410f-9627-6678c851fbcd",
   "metadata": {},
   "outputs": [],
   "source": [
    "df.to_csv('SVM.csv')"
   ]
  },
  {
   "cell_type": "code",
   "execution_count": 79,
   "id": "4e69fb63",
   "metadata": {},
   "outputs": [],
   "source": [
    "train_df.to_csv('SVM_training.csv')"
   ]
  },
  {
   "cell_type": "code",
   "execution_count": 80,
   "id": "be10e38e",
   "metadata": {},
   "outputs": [],
   "source": [
    "test_df.to_csv('SVM_test.csv')"
   ]
  },
  {
   "cell_type": "code",
   "execution_count": 81,
   "id": "ea3727d0",
   "metadata": {},
   "outputs": [
    {
     "data": {
      "text/html": [
       "<div>\n",
       "<style scoped>\n",
       "    .dataframe tbody tr th:only-of-type {\n",
       "        vertical-align: middle;\n",
       "    }\n",
       "\n",
       "    .dataframe tbody tr th {\n",
       "        vertical-align: top;\n",
       "    }\n",
       "\n",
       "    .dataframe thead th {\n",
       "        text-align: right;\n",
       "    }\n",
       "</style>\n",
       "<table border=\"1\" class=\"dataframe\">\n",
       "  <thead>\n",
       "    <tr style=\"text-align: right;\">\n",
       "      <th></th>\n",
       "      <th>Visib_miles</th>\n",
       "      <th>Cloud</th>\n",
       "      <th>Feels_like_c</th>\n",
       "      <th>snow_or_not</th>\n",
       "    </tr>\n",
       "  </thead>\n",
       "  <tbody>\n",
       "    <tr>\n",
       "      <th>0</th>\n",
       "      <td>0.00</td>\n",
       "      <td>0.636364</td>\n",
       "      <td>34</td>\n",
       "      <td>no_snow</td>\n",
       "    </tr>\n",
       "    <tr>\n",
       "      <th>1</th>\n",
       "      <td>0.00</td>\n",
       "      <td>0.272727</td>\n",
       "      <td>3</td>\n",
       "      <td>no_snow</td>\n",
       "    </tr>\n",
       "    <tr>\n",
       "      <th>2</th>\n",
       "      <td>0.17</td>\n",
       "      <td>0.935065</td>\n",
       "      <td>90</td>\n",
       "      <td>no_snow</td>\n",
       "    </tr>\n",
       "    <tr>\n",
       "      <th>3</th>\n",
       "      <td>0.00</td>\n",
       "      <td>0.753247</td>\n",
       "      <td>75</td>\n",
       "      <td>no_snow</td>\n",
       "    </tr>\n",
       "    <tr>\n",
       "      <th>4</th>\n",
       "      <td>1.79</td>\n",
       "      <td>0.506494</td>\n",
       "      <td>90</td>\n",
       "      <td>no_snow</td>\n",
       "    </tr>\n",
       "  </tbody>\n",
       "</table>\n",
       "</div>"
      ],
      "text/plain": [
       "   Visib_miles     Cloud  Feels_like_c snow_or_not\n",
       "0         0.00  0.636364            34     no_snow\n",
       "1         0.00  0.272727             3     no_snow\n",
       "2         0.17  0.935065            90     no_snow\n",
       "3         0.00  0.753247            75     no_snow\n",
       "4         1.79  0.506494            90     no_snow"
      ]
     },
     "execution_count": 81,
     "metadata": {},
     "output_type": "execute_result"
    }
   ],
   "source": [
    "df.head()"
   ]
  },
  {
   "cell_type": "code",
   "execution_count": 87,
   "id": "15fcc34b",
   "metadata": {},
   "outputs": [],
   "source": [
    "df['new'] = np.where(df['snow_or_not'] == 'no_snow', 0, 1)"
   ]
  },
  {
   "cell_type": "code",
   "execution_count": 88,
   "id": "c5f8e78c",
   "metadata": {},
   "outputs": [
    {
     "data": {
      "text/html": [
       "<div>\n",
       "<style scoped>\n",
       "    .dataframe tbody tr th:only-of-type {\n",
       "        vertical-align: middle;\n",
       "    }\n",
       "\n",
       "    .dataframe tbody tr th {\n",
       "        vertical-align: top;\n",
       "    }\n",
       "\n",
       "    .dataframe thead th {\n",
       "        text-align: right;\n",
       "    }\n",
       "</style>\n",
       "<table border=\"1\" class=\"dataframe\">\n",
       "  <thead>\n",
       "    <tr style=\"text-align: right;\">\n",
       "      <th></th>\n",
       "      <th>Visib_miles</th>\n",
       "      <th>Cloud</th>\n",
       "      <th>Feels_like_c</th>\n",
       "      <th>snow_or_not</th>\n",
       "      <th>new</th>\n",
       "    </tr>\n",
       "  </thead>\n",
       "  <tbody>\n",
       "    <tr>\n",
       "      <th>0</th>\n",
       "      <td>0.00</td>\n",
       "      <td>0.636364</td>\n",
       "      <td>34</td>\n",
       "      <td>no_snow</td>\n",
       "      <td>0</td>\n",
       "    </tr>\n",
       "    <tr>\n",
       "      <th>1</th>\n",
       "      <td>0.00</td>\n",
       "      <td>0.272727</td>\n",
       "      <td>3</td>\n",
       "      <td>no_snow</td>\n",
       "      <td>0</td>\n",
       "    </tr>\n",
       "    <tr>\n",
       "      <th>2</th>\n",
       "      <td>0.17</td>\n",
       "      <td>0.935065</td>\n",
       "      <td>90</td>\n",
       "      <td>no_snow</td>\n",
       "      <td>0</td>\n",
       "    </tr>\n",
       "    <tr>\n",
       "      <th>3</th>\n",
       "      <td>0.00</td>\n",
       "      <td>0.753247</td>\n",
       "      <td>75</td>\n",
       "      <td>no_snow</td>\n",
       "      <td>0</td>\n",
       "    </tr>\n",
       "    <tr>\n",
       "      <th>4</th>\n",
       "      <td>1.79</td>\n",
       "      <td>0.506494</td>\n",
       "      <td>90</td>\n",
       "      <td>no_snow</td>\n",
       "      <td>0</td>\n",
       "    </tr>\n",
       "  </tbody>\n",
       "</table>\n",
       "</div>"
      ],
      "text/plain": [
       "   Visib_miles     Cloud  Feels_like_c snow_or_not  new\n",
       "0         0.00  0.636364            34     no_snow    0\n",
       "1         0.00  0.272727             3     no_snow    0\n",
       "2         0.17  0.935065            90     no_snow    0\n",
       "3         0.00  0.753247            75     no_snow    0\n",
       "4         1.79  0.506494            90     no_snow    0"
      ]
     },
     "execution_count": 88,
     "metadata": {},
     "output_type": "execute_result"
    }
   ],
   "source": [
    "df.head()"
   ]
  },
  {
   "cell_type": "code",
   "execution_count": 91,
   "id": "8c3d74b5",
   "metadata": {},
   "outputs": [
    {
     "data": {
      "image/png": "[encoded data removed]",
      "text/plain": [
       "<Figure size 1080x720 with 1 Axes>"
      ]
     },
     "metadata": {
      "needs_background": "light"
     },
     "output_type": "display_data"
    }
   ],
   "source": [
    "import numpy as np\n",
    "import matplotlib.pyplot as plt\n",
    "\n",
    "np.random.seed(1)\n",
    "fig = plt.figure(figsize = (15,10))\n",
    "ax = fig.add_subplot(projection='3d')\n",
    "\n",
    "ax.scatter(np.array(df['Visib_miles']), np.array(df['Cloud']), np.array(df['Feels_like_c']))\n",
    "\n",
    "ax.set_xlabel('visible miles')\n",
    "ax.set_ylabel('cloud')\n",
    "ax.set_zlabel('Temperature Feels like')\n",
    "\n",
    "plt.show()"
   ]
  },
  {
   "cell_type": "code",
   "execution_count": null,
   "id": "ff4bd731",
   "metadata": {},
   "outputs": [],
   "source": []
  }
 ],
 "metadata": {
  "kernelspec": {
   "display_name": "Python 3 (ipykernel)",
   "language": "python",
   "name": "python3"
  },
  "language_info": {
   "codemirror_mode": {
    "name": "ipython",
    "version": 3
   },
   "file_extension": ".py",
   "mimetype": "text/x-python",
   "name": "python",
   "nbconvert_exporter": "python",
   "pygments_lexer": "ipython3",
   "version": "3.9.12"
  }
 },
 "nbformat": 4,
 "nbformat_minor": 5
}
